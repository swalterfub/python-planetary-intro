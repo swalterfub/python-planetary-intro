{
 "cells": [
  {
   "cell_type": "code",
   "execution_count": null,
   "metadata": {},
   "outputs": [],
   "source": [
    "#%matplotlib inline\n",
    "%matplotlib notebook\n",
    "import rasterio\n",
    "\n",
    "dataset = rasterio.open('h0360_0000.nd4.53a.tif')\n",
    "\n",
    "#help(dataset)\n",
    "\n",
    "#print(dataset.nodata)\n",
    "#print(dataset.bounds)\n",
    "#print(dataset.crs)"
   ]
  },
  {
   "cell_type": "code",
   "execution_count": null,
   "metadata": {},
   "outputs": [],
   "source": [
    "import matplotlib.pyplot as plt\n",
    "\n",
    "plt.imshow(dataset.read(1), cmap='gray')"
   ]
  },
  {
   "cell_type": "code",
   "execution_count": null,
   "metadata": {},
   "outputs": [],
   "source": [
    "from rasterio.plot import show\n",
    "show(dataset, cmap='gray', transform=dataset.transform)"
   ]
  },
  {
   "cell_type": "code",
   "execution_count": null,
   "metadata": {},
   "outputs": [],
   "source": [
    "from rasterio.plot import show_hist\n",
    "\n",
    "show_hist( dataset, bins=50, histtype='stepfilled', title=\"Histogram\")\n"
   ]
  },
  {
   "cell_type": "code",
   "execution_count": null,
   "metadata": {},
   "outputs": [],
   "source": [
    "import numpy as np\n",
    "band=dataset.read(1)\n",
    "print(band.shape)\n",
    "\n",
    "print(band[4000,10])\n",
    "#print(\"mean:\", np.mean(band))\n",
    "#print(\"median:\", np.median(band))\n",
    "#print(\"std:\", np.std(band))\n",
    "\n"
   ]
  },
  {
   "cell_type": "code",
   "execution_count": null,
   "metadata": {},
   "outputs": [],
   "source": [
    "bandf=np.float32(band)\n",
    "bandf[band==0]=np.nan\n",
    "print(bandf[4000,10])\n",
    "\n",
    "#print(np.nanmean(bandf))\n",
    "#print(np.nanmedian(bandf))\n",
    "#print(np.nanstd(bandf))"
   ]
  },
  {
   "cell_type": "code",
   "execution_count": null,
   "metadata": {},
   "outputs": [],
   "source": [
    "import cv2 as cv\n",
    "\n",
    "blur=cv.blur(band,(50,50))\n",
    "\n",
    "plt.imshow(blur, cmap='gray')"
   ]
  },
  {
   "cell_type": "code",
   "execution_count": null,
   "metadata": {},
   "outputs": [],
   "source": [
    "from matplotlib import pyplot\n",
    "ax1 = pyplot.subplot(1,2,1)\n",
    "ax2 = pyplot.subplot(1,2,2)\n",
    "\n",
    "show(band, ax=ax1, cmap='gray')\n",
    "\n",
    "equ = cv.equalizeHist(band)\n",
    "\n",
    "show(equ, ax=ax2, cmap='gray')"
   ]
  },
  {
   "cell_type": "code",
   "execution_count": null,
   "metadata": {},
   "outputs": [],
   "source": [
    "_ = plt.hist(equ, 50, density=True, facecolor='g', alpha=0.75)\n"
   ]
  }
 ],
 "metadata": {
  "kernelspec": {
   "display_name": "Python 3",
   "language": "python",
   "name": "python3"
  },
  "language_info": {
   "codemirror_mode": {
    "name": "ipython",
    "version": 3
   },
   "file_extension": ".py",
   "mimetype": "text/x-python",
   "name": "python",
   "nbconvert_exporter": "python",
   "pygments_lexer": "ipython3",
   "version": "3.8.3"
  }
 },
 "nbformat": 4,
 "nbformat_minor": 4
}
