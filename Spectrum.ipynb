{
 "cells": [
  {
   "cell_type": "code",
   "execution_count": null,
   "metadata": {
    "slideshow": {
     "slide_type": "slide"
    }
   },
   "outputs": [],
   "source": [
    "%matplotlib notebook\n",
    "import matplotlib.pyplot as plt\n",
    "#%matplotlib inline\n",
    "#plt.rcParams[\"figure.figsize\"]=20,5\n",
    "\n",
    "import numpy as np\n",
    "\n",
    "DATAFILE = \"2019-11-14-140127_db_uploaded.txt\"\n",
    "data = np.array( np.loadtxt( DATAFILE ) )\n",
    "print(data.shape)\n",
    "\n",
    "#plt.plot(data[:,0],data[:,1])\n"
   ]
  },
  {
   "cell_type": "markdown",
   "metadata": {},
   "source": [
    "### Find peaks?\n",
    "\n",
    "[SciPy Signal](https://docs.scipy.org/doc/scipy/reference/generated/scipy.signal.find_peaks.html)\n"
   ]
  },
  {
   "cell_type": "code",
   "execution_count": 1,
   "metadata": {
    "slideshow": {
     "slide_type": "slide"
    }
   },
   "outputs": [],
   "source": [
    "#from scipy.signal import find_peaks\n",
    "#peaks, properties = find_peaks(data[:,1])\n",
    "#for peak in peaks:\n",
    "#    print(peak, data[peak,0])\n"
   ]
  },
  {
   "cell_type": "code",
   "execution_count": null,
   "metadata": {},
   "outputs": [],
   "source": [
    "#from scipy.signal import find_peaks\n",
    "#peaks, properties = find_peaks(data[:,1], height=0.02, distance=250, width=[0,15])\n",
    "#for peak in peaks:\n",
    "#    print(peak, data[peak,0])\n",
    "#    plt.annotate(round(data[peak,0],2), (data[peak,0],data[peak,1]))"
   ]
  }
 ],
 "metadata": {
  "celltoolbar": "Raw Cell Format",
  "kernelspec": {
   "display_name": "Python 3",
   "language": "python",
   "name": "python3"
  },
  "language_info": {
   "codemirror_mode": {
    "name": "ipython",
    "version": 3
   },
   "file_extension": ".py",
   "mimetype": "text/x-python",
   "name": "python",
   "nbconvert_exporter": "python",
   "pygments_lexer": "ipython3",
   "version": "3.8.3"
  }
 },
 "nbformat": 4,
 "nbformat_minor": 4
}
